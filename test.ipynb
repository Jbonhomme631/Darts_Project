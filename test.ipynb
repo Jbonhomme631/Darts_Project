{
 "cells": [
  {
   "cell_type": "code",
   "execution_count": 11,
   "metadata": {},
   "outputs": [
    {
     "ename": "ImportError",
     "evalue": "Plotly Express requires numpy to be installed. You can install numpy using pip with:\n\n$ pip install numpy\n\nOr install Plotly Express and its dependencies directly with:\n\n$ pip install \"plotly[express]\"\n\nYou can also use Plotly Graph Objects to create a large number of charts without installing\nnumpy. See examples here: https://plotly.com/python/graph-objects/\n",
     "output_type": "error",
     "traceback": [
      "\u001b[31m---------------------------------------------------------------------------\u001b[39m",
      "\u001b[31mImportError\u001b[39m                               Traceback (most recent call last)",
      "\u001b[36mCell\u001b[39m\u001b[36m \u001b[39m\u001b[32mIn[11]\u001b[39m\u001b[32m, line 1\u001b[39m\n\u001b[32m----> \u001b[39m\u001b[32m1\u001b[39m \u001b[38;5;28;01mimport\u001b[39;00m\u001b[38;5;250m \u001b[39m\u001b[34;01mplotly\u001b[39;00m\u001b[34;01m.\u001b[39;00m\u001b[34;01mexpress\u001b[39;00m\u001b[38;5;250m \u001b[39m\u001b[38;5;28;01mas\u001b[39;00m\u001b[38;5;250m \u001b[39m\u001b[34;01mpx\u001b[39;00m\n\u001b[32m      3\u001b[39m df = px.data.iris()  \u001b[38;5;66;03m# Utiliser un jeu de données intégré\u001b[39;00m\n\u001b[32m      4\u001b[39m fig = px.bar(df, x=\u001b[33m'\u001b[39m\u001b[33mspecies\u001b[39m\u001b[33m'\u001b[39m, y=\u001b[33m'\u001b[39m\u001b[33msepal_width\u001b[39m\u001b[33m'\u001b[39m, title=\u001b[33m'\u001b[39m\u001b[33mLargeur des sépales par espèce\u001b[39m\u001b[33m'\u001b[39m)\n",
      "\u001b[36mFile \u001b[39m\u001b[32mc:\\Users\\jbonhomme\\.conda\\envs\\plotly_env\\Lib\\site-packages\\plotly\\express\\__init__.py:10\u001b[39m\n\u001b[32m      8\u001b[39m np = optional_imports.get_module(\u001b[33m\"\u001b[39m\u001b[33mnumpy\u001b[39m\u001b[33m\"\u001b[39m)\n\u001b[32m      9\u001b[39m \u001b[38;5;28;01mif\u001b[39;00m np \u001b[38;5;129;01mis\u001b[39;00m \u001b[38;5;28;01mNone\u001b[39;00m:\n\u001b[32m---> \u001b[39m\u001b[32m10\u001b[39m     \u001b[38;5;28;01mraise\u001b[39;00m \u001b[38;5;167;01mImportError\u001b[39;00m(\n\u001b[32m     11\u001b[39m \u001b[38;5;250m        \u001b[39m\u001b[33;03m\"\"\"\\\u001b[39;00m\n\u001b[32m     12\u001b[39m \u001b[33;03mPlotly Express requires numpy to be installed. You can install numpy using pip with:\u001b[39;00m\n\u001b[32m     13\u001b[39m \n\u001b[32m     14\u001b[39m \u001b[33;03m$ pip install numpy\u001b[39;00m\n\u001b[32m     15\u001b[39m \n\u001b[32m     16\u001b[39m \u001b[33;03mOr install Plotly Express and its dependencies directly with:\u001b[39;00m\n\u001b[32m     17\u001b[39m \n\u001b[32m     18\u001b[39m \u001b[33;03m$ pip install \"plotly[express]\"\u001b[39;00m\n\u001b[32m     19\u001b[39m \n\u001b[32m     20\u001b[39m \u001b[33;03mYou can also use Plotly Graph Objects to create a large number of charts without installing\u001b[39;00m\n\u001b[32m     21\u001b[39m \u001b[33;03mnumpy. See examples here: https://plotly.com/python/graph-objects/\u001b[39;00m\n\u001b[32m     22\u001b[39m \u001b[33;03m\"\"\"\u001b[39;00m\n\u001b[32m     23\u001b[39m     )\n\u001b[32m     25\u001b[39m \u001b[38;5;28;01mfrom\u001b[39;00m\u001b[38;5;250m \u001b[39m\u001b[34;01m.\u001b[39;00m\u001b[34;01m_imshow\u001b[39;00m\u001b[38;5;250m \u001b[39m\u001b[38;5;28;01mimport\u001b[39;00m imshow\n\u001b[32m     26\u001b[39m \u001b[38;5;28;01mfrom\u001b[39;00m\u001b[38;5;250m \u001b[39m\u001b[34;01m.\u001b[39;00m\u001b[34;01m_chart_types\u001b[39;00m\u001b[38;5;250m \u001b[39m\u001b[38;5;28;01mimport\u001b[39;00m (  \u001b[38;5;66;03m# noqa: F401\u001b[39;00m\n\u001b[32m     27\u001b[39m     scatter,\n\u001b[32m     28\u001b[39m     scatter_3d,\n\u001b[32m   (...)\u001b[39m\u001b[32m     65\u001b[39m     density_mapbox,\n\u001b[32m     66\u001b[39m )\n",
      "\u001b[31mImportError\u001b[39m: Plotly Express requires numpy to be installed. You can install numpy using pip with:\n\n$ pip install numpy\n\nOr install Plotly Express and its dependencies directly with:\n\n$ pip install \"plotly[express]\"\n\nYou can also use Plotly Graph Objects to create a large number of charts without installing\nnumpy. See examples here: https://plotly.com/python/graph-objects/\n"
     ]
    }
   ],
   "source": [
    "import plotly.express as px\n",
    "\n",
    "df = px.data.iris()  # Utiliser un jeu de données intégré\n",
    "fig = px.bar(df, x='species', y='sepal_width', title='Largeur des sépales par espèce')\n",
    "fig.show()"
   ]
  },
  {
   "cell_type": "code",
   "execution_count": null,
   "metadata": {},
   "outputs": [],
   "source": [
    "import plotly.express as px\n",
    "\n",
    "df = px.data.tips()  # Utiliser un jeu de données intégré\n",
    "fig = px.pie(df, names='day', values='total_bill', title='Total des factures par jour')\n",
    "fig.show()"
   ]
  },
  {
   "cell_type": "code",
   "execution_count": null,
   "metadata": {},
   "outputs": [],
   "source": [
    "import plotly.graph_objects as go\n",
    "\n",
    "fig = go.Figure()\n",
    "\n",
    "fig.add_trace(go.Scatter(\n",
    "    x=[1, 2, 3, 4],\n",
    "    y=[10, 11, 12, 13],\n",
    "    mode='lines+markers',\n",
    "    name='Ligne 1'\n",
    "))\n",
    "\n",
    "fig.update_layout(\n",
    "    title='Graphique personnalisé',\n",
    "    xaxis_title='Axe X',\n",
    "    yaxis_title='Axe Y'\n",
    ")\n",
    "\n",
    "fig.show()"
   ]
  }
 ],
 "metadata": {
  "kernelspec": {
   "display_name": "plotly_env",
   "language": "python",
   "name": "python3"
  },
  "language_info": {
   "codemirror_mode": {
    "name": "ipython",
    "version": 3
   },
   "file_extension": ".py",
   "mimetype": "text/x-python",
   "name": "python",
   "nbconvert_exporter": "python",
   "pygments_lexer": "ipython3",
   "version": "3.11.11"
  }
 },
 "nbformat": 4,
 "nbformat_minor": 2
}
