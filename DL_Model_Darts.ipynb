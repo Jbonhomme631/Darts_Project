{
 "cells": [
  {
   "cell_type": "code",
   "execution_count": 11,
   "metadata": {},
   "outputs": [],
   "source": [
    "import pandas as pd\n",
    "from darts import TimeSeries\n",
    "from darts.models import RNNModel\n",
    "from darts.models import BlockRNNModel\n",
    "from darts.models import TransformerModel\n",
    "from darts.models import TCNModel\n",
    "from darts import concatenate\n",
    "from darts.metrics import mase"
   ]
  },
  {
   "cell_type": "code",
   "execution_count": 3,
   "metadata": {},
   "outputs": [],
   "source": [
    "#Importing target times series\n",
    "df_target = pd.read_csv(\"C:/Users/jbonhomme/OneDrive - EDF Renouvelables/Documents/GitHub/Darts_Project/Data/Transformed/B5_cycles_capacity.csv\", encoding='utf-8')\n",
    "df_target = df_target.rename(columns={'Parameter': 'Capacity',})\n",
    "#df_target['Cycle'] = pd.to_datetime(df_target['Cycle'])"
   ]
  },
  {
   "cell_type": "code",
   "execution_count": 4,
   "metadata": {},
   "outputs": [],
   "source": [
    "#Importing covariates\n",
    "df_voltage = pd.read_csv(\"C:/Users/jbonhomme/OneDrive - EDF Renouvelables/Documents/GitHub/Darts_Project/Data/Transformed/time_series_voltage_table.csv\", encoding='utf-8')\n",
    "df_voltage = df_voltage.rename(columns={'index': 'Cycle',})\n",
    "#df_cov['Cycle'] = pd.to_datetime(df_cov['Cycle'])\n",
    "\n",
    "df_current = pd.read_csv(\"C:/Users/jbonhomme/OneDrive - EDF Renouvelables/Documents/GitHub/Darts_Project/Data/Transformed/time_series_current_table.csv\", encoding='utf-8')\n",
    "df_current = df_current.rename(columns={'index': 'Cycle',})\n",
    "\n",
    "df_temp = pd.read_csv(\"C:/Users/jbonhomme/OneDrive - EDF Renouvelables/Documents/GitHub/Darts_Project/Data/Transformed/time_series_temp_table.csv\", encoding='utf-8')\n",
    "df_temp = df_temp.rename(columns={'index': 'Cycle',})\n",
    "\n",
    "df_time = pd.read_csv(\"C:/Users/jbonhomme/OneDrive - EDF Renouvelables/Documents/GitHub/Darts_Project/Data/Transformed/time_series_time_table.csv\", encoding='utf-8')\n",
    "df_time = df_time.rename(columns={'index': 'Cycle',})"
   ]
  },
  {
   "cell_type": "code",
   "execution_count": 6,
   "metadata": {},
   "outputs": [],
   "source": [
    "#Converting the target and covariate dataframe in a Darts time series format\n",
    "target_series = TimeSeries.from_dataframe(df_target, 'Cycle', 'Capacity')\n",
    "\n",
    "value_columns = df_voltage.columns.drop('Cycle').tolist()\n",
    "cov_voltage_time_series = TimeSeries.from_dataframe(df_voltage, 'Cycle', value_columns)\n",
    "value_columns = df_current.columns.drop('Cycle').tolist()\n",
    "cov_current_time_series = TimeSeries.from_dataframe(df_current, 'Cycle', value_columns)\n",
    "value_columns = df_temp.columns.drop('Cycle').tolist()\n",
    "cov_temp_time_series = TimeSeries.from_dataframe(df_temp, 'Cycle', value_columns)\n",
    "value_columns = df_time.columns.drop('Cycle').tolist()\n",
    "cov_time_time_series = TimeSeries.from_dataframe(df_time, 'Cycle', value_columns)\n",
    "past_covariates = concatenate([cov_voltage_time_series, cov_current_time_series, cov_temp_time_series, cov_time_time_series], axis=1)\n",
    "# past_covariates = past_covariates[:train_size]"
   ]
  },
  {
   "cell_type": "code",
   "execution_count": 64,
   "metadata": {},
   "outputs": [],
   "source": [
    "from darts.metrics import rmse\n",
    "\n",
    "# We first set aside the first 50% as training series:\n",
    "train_size = int(len(target_series) * 0.5)\n",
    "train_dataset = target_series[:train_size]\n",
    "test_dataset = target_series[train_size:]\n",
    "# train_dataset = target_series\n",
    "\n",
    "def eval_model(model, past_covariates=None, future_covariates=None):\n",
    "    # Past and future covariates are optional because they won't always be used in our tests\n",
    "    \n",
    "    # We backtest the model on the last 40% of the capacity series, with a horizon of 10 steps:\n",
    "    backtest = model.historical_forecasts(series=train_dataset, \n",
    "                                          past_covariates=past_covariates,\n",
    "                                          future_covariates=future_covariates,\n",
    "                                          start=10,\n",
    "                                          start_format='position', \n",
    "                                          retrain=False,\n",
    "                                          verbose=True, \n",
    "                                          forecast_horizon=10)\n",
    "    \n",
    "    target_series[-len(backtest)-100:].plot()\n",
    "    backtest.plot(label='backtest (n=10)')\n",
    "    print('Backtest RMSE = {}'.format(rmse(train_dataset, backtest)))"
   ]
  },
  {
   "cell_type": "code",
   "execution_count": 65,
   "metadata": {},
   "outputs": [
    {
     "name": "stderr",
     "output_type": "stream",
     "text": [
      "GPU available: False, used: False\n",
      "TPU available: False, using: 0 TPU cores\n",
      "HPU available: False, using: 0 HPUs\n",
      "\n",
      "  | Name            | Type             | Params | Mode \n",
      "-------------------------------------------------------------\n",
      "0 | criterion       | MSELoss          | 0      | train\n",
      "1 | train_criterion | MSELoss          | 0      | train\n",
      "2 | val_criterion   | MSELoss          | 0      | train\n",
      "3 | train_metrics   | MetricCollection | 0      | train\n",
      "4 | val_metrics     | MetricCollection | 0      | train\n",
      "5 | rnn             | RNN              | 40.4 K | train\n",
      "6 | fc              | Sequential       | 130    | train\n",
      "-------------------------------------------------------------\n",
      "40.5 K    Trainable params\n",
      "0         Non-trainable params\n",
      "40.5 K    Total params\n",
      "0.162     Total estimated model params size (MB)\n",
      "8         Modules in train mode\n",
      "0         Modules in eval mode\n"
     ]
    },
    {
     "data": {
      "application/vnd.jupyter.widget-view+json": {
       "model_id": "aa7b40a8e1294473ab6f05ff91d624bf",
       "version_major": 2,
       "version_minor": 0
      },
      "text/plain": [
       "Training: |          | 0/? [00:00<?, ?it/s]"
      ]
     },
     "metadata": {},
     "output_type": "display_data"
    },
    {
     "name": "stderr",
     "output_type": "stream",
     "text": [
      "`Trainer.fit` stopped: `max_epochs=500` reached.\n"
     ]
    },
    {
     "data": {
      "text/plain": [
       "BlockRNNModel(output_chunk_shift=0, model=RNN, hidden_dim=25, n_rnn_layers=3, hidden_fc_sizes=None, dropout=0.0, activation=ReLU, input_chunk_length=30, output_chunk_length=5)"
      ]
     },
     "execution_count": 65,
     "metadata": {},
     "output_type": "execute_result"
    }
   ],
   "source": [
    "brnn_voltage = BlockRNNModel(input_chunk_length=30, \n",
    "                                      output_chunk_length=5,\n",
    "                                      model='RNN',\n",
    "                                      n_rnn_layers=3,\n",
    "                                      )\n",
    "\n",
    "# brnn_voltage = TCNModel(input_chunk_length=30, \n",
    "#                                       output_chunk_length=10,\n",
    "#                                       )\n",
    "\n",
    "brnn_voltage.fit(train_dataset, \n",
    "                          past_covariates=past_covariates, \n",
    "                          epochs=500, \n",
    "                          verbose=True)\n"
   ]
  },
  {
   "cell_type": "code",
   "execution_count": null,
   "metadata": {},
   "outputs": [],
   "source": [
    "#  eval_model(brnn_voltage, \n",
    "#            past_covariates=[cov_voltage_time_series, cov_current_time_series, cov_temp_time_series, cov_time_time_series])"
   ]
  },
  {
   "cell_type": "code",
   "execution_count": 68,
   "metadata": {},
   "outputs": [
    {
     "name": "stderr",
     "output_type": "stream",
     "text": [
      "`predict()` was called with `n > output_chunk_length`: using auto-regression to forecast the values after `output_chunk_length` points. The model will access `(n - output_chunk_length)` future values of your `past_covariates` (relative to the first predicted time step). To hide this warning, set `show_warnings=False`.\n"
     ]
    },
    {
     "name": "stderr",
     "output_type": "stream",
     "text": [
      "GPU available: False, used: False\n",
      "TPU available: False, using: 0 TPU cores\n",
      "HPU available: False, using: 0 HPUs\n"
     ]
    },
    {
     "data": {
      "application/vnd.jupyter.widget-view+json": {
       "model_id": "322815682bf8468ea98f2bea9f941718",
       "version_major": 2,
       "version_minor": 0
      },
      "text/plain": [
       "Predicting: |          | 0/? [00:00<?, ?it/s]"
      ]
     },
     "metadata": {},
     "output_type": "display_data"
    },
    {
     "data": {
      "text/plain": [
       "<Axes: xlabel='Cycle'>"
      ]
     },
     "execution_count": 68,
     "metadata": {},
     "output_type": "execute_result"
    },
    {
     "data": {
      "image/png": "[encoded data removed]",
      "text/plain": [
       "<Figure size 640x480 with 1 Axes>"
      ]
     },
     "metadata": {},
     "output_type": "display_data"
    }
   ],
   "source": [
    "future = brnn_voltage.predict(n=50,\n",
    "                       series=train_dataset,\n",
    "                       past_covariates=past_covariates)\n",
    "# mase_err = mase(target_series, future, train_dataset)\n",
    "target_series.plot()\n",
    "future.plot(label='prediction(n=20)')\n",
    "# print('Prediction MASE = {}'.format(mase_err))"
   ]
  },
  {
   "cell_type": "code",
   "execution_count": 56,
   "metadata": {},
   "outputs": [],
   "source": [
    "from darts.metrics import rmse\n",
    "\n",
    "# We first set aside the first 50% as training series:\n",
    "train_size = int(len(target_series) * 0.9)\n",
    "train_dataset = target_series[:train_size]\n",
    "test_dataset = target_series[train_size:]\n",
    "# train_dataset = target_series\n",
    "\n",
    "def eval_model(model, past_covariates=None, future_covariates=None):\n",
    "    # Past and future covariates are optional because they won't always be used in our tests\n",
    "    \n",
    "    # We backtest the model on the last 40% of the capacity series, with a horizon of 10 steps:\n",
    "    backtest = model.historical_forecasts(series=train_dataset, \n",
    "                                          past_covariates=past_covariates,\n",
    "                                          future_covariates=future_covariates,\n",
    "                                          start=10,\n",
    "                                          start_format='position', \n",
    "                                          retrain=False,\n",
    "                                          verbose=True, \n",
    "                                          forecast_horizon=10)\n",
    "    \n",
    "    target_series[-len(backtest)-100:].plot()\n",
    "    backtest.plot(label='backtest (n=10)')\n",
    "    print('Backtest RMSE = {}'.format(rmse(train_dataset, backtest)))"
   ]
  },
  {
   "cell_type": "code",
   "execution_count": 59,
   "metadata": {},
   "outputs": [
    {
     "name": "stderr",
     "output_type": "stream",
     "text": [
      "GPU available: False, used: False\n",
      "TPU available: False, using: 0 TPU cores\n",
      "HPU available: False, using: 0 HPUs\n",
      "\n",
      "  | Name            | Type             | Params | Mode \n",
      "-------------------------------------------------------------\n",
      "0 | criterion       | MSELoss          | 0      | train\n",
      "1 | train_criterion | MSELoss          | 0      | train\n",
      "2 | val_criterion   | MSELoss          | 0      | train\n",
      "3 | train_metrics   | MetricCollection | 0      | train\n",
      "4 | val_metrics     | MetricCollection | 0      | train\n",
      "5 | rnn             | RNN              | 40.4 K | train\n",
      "6 | fc              | Sequential       | 260    | train\n",
      "-------------------------------------------------------------\n",
      "40.7 K    Trainable params\n",
      "0         Non-trainable params\n",
      "40.7 K    Total params\n",
      "0.163     Total estimated model params size (MB)\n",
      "8         Modules in train mode\n",
      "0         Modules in eval mode\n"
     ]
    },
    {
     "data": {
      "application/vnd.jupyter.widget-view+json": {
       "model_id": "7fc8e6be6a0948a7bc69f7fdf5407ed3",
       "version_major": 2,
       "version_minor": 0
      },
      "text/plain": [
       "Training: |          | 0/? [00:00<?, ?it/s]"
      ]
     },
     "metadata": {},
     "output_type": "display_data"
    },
    {
     "name": "stderr",
     "output_type": "stream",
     "text": [
      "`Trainer.fit` stopped: `max_epochs=500` reached.\n"
     ]
    },
    {
     "data": {
      "text/plain": [
       "BlockRNNModel(output_chunk_shift=0, model=RNN, hidden_dim=25, n_rnn_layers=3, hidden_fc_sizes=None, dropout=0.0, activation=ReLU, input_chunk_length=30, output_chunk_length=10)"
      ]
     },
     "execution_count": 59,
     "metadata": {},
     "output_type": "execute_result"
    }
   ],
   "source": [
    "brnn_voltage = BlockRNNModel(input_chunk_length=30, \n",
    "                                      output_chunk_length=10,\n",
    "                                      model='RNN',\n",
    "                                      n_rnn_layers=3,\n",
    "                                      )\n",
    "\n",
    "# brnn_voltage = TCNModel(input_chunk_length=30, \n",
    "#                                       output_chunk_length=10,\n",
    "#                                       )\n",
    "\n",
    "brnn_voltage.fit(train_dataset, \n",
    "                          past_covariates=past_covariates, \n",
    "                          epochs=500, \n",
    "                          verbose=True)"
   ]
  },
  {
   "cell_type": "code",
   "execution_count": 69,
   "metadata": {},
   "outputs": [
    {
     "name": "stderr",
     "output_type": "stream",
     "text": [
      "`predict()` was called with `n > output_chunk_length`: using auto-regression to forecast the values after `output_chunk_length` points. The model will access `(n - output_chunk_length)` future values of your `past_covariates` (relative to the first predicted time step). To hide this warning, set `show_warnings=False`.\n"
     ]
    },
    {
     "name": "stderr",
     "output_type": "stream",
     "text": [
      "GPU available: False, used: False\n",
      "TPU available: False, using: 0 TPU cores\n",
      "HPU available: False, using: 0 HPUs\n"
     ]
    },
    {
     "data": {
      "application/vnd.jupyter.widget-view+json": {
       "model_id": "732ffc8f2c664428acad257d51a4c640",
       "version_major": 2,
       "version_minor": 0
      },
      "text/plain": [
       "Predicting: |          | 0/? [00:00<?, ?it/s]"
      ]
     },
     "metadata": {},
     "output_type": "display_data"
    },
    {
     "data": {
      "text/plain": [
       "<Axes: xlabel='Cycle'>"
      ]
     },
     "execution_count": 69,
     "metadata": {},
     "output_type": "execute_result"
    },
    {
     "data": {
      "image/png": "[encoded data removed]",
      "text/plain": [
       "<Figure size 640x480 with 1 Axes>"
      ]
     },
     "metadata": {},
     "output_type": "display_data"
    }
   ],
   "source": [
    "future = brnn_voltage.predict(n=15,\n",
    "                       series=train_dataset,\n",
    "                       past_covariates=past_covariates)\n",
    "# mase_err = mase(target_series, future, train_dataset)\n",
    "target_series.plot()\n",
    "future.plot(label='prediction(n=10)')\n",
    "# print('Prediction MASE = {}'.format(mase_err))"
   ]
  }
 ],
 "metadata": {
  "kernelspec": {
   "display_name": "env_darts",
   "language": "python",
   "name": "python3"
  },
  "language_info": {
   "codemirror_mode": {
    "name": "ipython",
    "version": 3
   },
   "file_extension": ".py",
   "mimetype": "text/x-python",
   "name": "python",
   "nbconvert_exporter": "python",
   "pygments_lexer": "ipython3",
   "version": "3.11.11"
  }
 },
 "nbformat": 4,
 "nbformat_minor": 2
}
